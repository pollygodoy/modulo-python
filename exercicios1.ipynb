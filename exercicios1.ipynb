{
  "nbformat": 4,
  "nbformat_minor": 0,
  "metadata": {
    "colab": {
      "provenance": [],
      "authorship_tag": "ABX9TyPd9elVcq4GaCjNfHCes6N5",
      "include_colab_link": true
    },
    "kernelspec": {
      "name": "python3",
      "display_name": "Python 3"
    },
    "language_info": {
      "name": "python"
    }
  },
  "cells": [
    {
      "cell_type": "markdown",
      "metadata": {
        "id": "view-in-github",
        "colab_type": "text"
      },
      "source": [
        "<a href=\"https://colab.research.google.com/github/pollygodoy/modulo-python/blob/main/exercicios1.ipynb\" target=\"_parent\"><img src=\"https://colab.research.google.com/assets/colab-badge.svg\" alt=\"Open In Colab\"/></a>"
      ]
    },
    {
      "cell_type": "code",
      "execution_count": null,
      "metadata": {
        "id": "YXhATDSK4ujr",
        "colab": {
          "base_uri": "https://localhost:8080/",
          "height": 582
        },
        "outputId": "aca7595e-a41d-4a1a-924d-a2efe552d6d4"
      },
      "outputs": [
        {
          "name": "stdout",
          "output_type": "stream",
          "text": [
            "\n",
            "Olá, meu nome é Poline e eu tenho 38 anos.\n",
            "\n",
            "\n",
            "Olá, eu sou Poline. Estou aprendendo Python.\n",
            "\n",
            "Tamanho:  45\n",
            "\n",
            "Nome de completos: Poliane de Fernandes de Godoy\n",
            "\n",
            "4\n",
            "Maiúsulas : SEMPRE ESTUDANDO E DEMAIS ESFORÇA EM FRENTE! \n",
            "\n",
            "Lista:  ['sempre', 'estudando', 'e', 'demais', 'esforça', 'em', 'frente!']\n",
            "\n",
            "Substituas as palavras:  sempre estudando e demais esforça em frente! \n",
            "\n",
            "Soma:  40 idade.\n",
            "Digite o primeiro no numero: 12\n",
            "Digite o segundo no numero: \n"
          ]
        },
        {
          "output_type": "error",
          "ename": "ValueError",
          "evalue": "ignored",
          "traceback": [
            "\u001b[0;31m---------------------------------------------------------------------------\u001b[0m",
            "\u001b[0;31mValueError\u001b[0m                                Traceback (most recent call last)",
            "\u001b[0;32m<ipython-input-1-e394a3579c9a>\u001b[0m in \u001b[0;36m<cell line: 52>\u001b[0;34m()\u001b[0m\n\u001b[1;32m     50\u001b[0m \u001b[0;34m\u001b[0m\u001b[0m\n\u001b[1;32m     51\u001b[0m \u001b[0mnumero1\u001b[0m \u001b[0;34m=\u001b[0m \u001b[0mint\u001b[0m\u001b[0;34m(\u001b[0m\u001b[0minput\u001b[0m\u001b[0;34m(\u001b[0m\u001b[0;34m\"Digite o primeiro no numero: \"\u001b[0m\u001b[0;34m)\u001b[0m\u001b[0;34m)\u001b[0m\u001b[0;34m;\u001b[0m\u001b[0;34m\u001b[0m\u001b[0;34m\u001b[0m\u001b[0m\n\u001b[0;32m---> 52\u001b[0;31m \u001b[0mnumero2\u001b[0m \u001b[0;34m=\u001b[0m \u001b[0mint\u001b[0m\u001b[0;34m(\u001b[0m\u001b[0minput\u001b[0m\u001b[0;34m(\u001b[0m\u001b[0;34m\"Digite o segundo no numero: \"\u001b[0m\u001b[0;34m)\u001b[0m\u001b[0;34m)\u001b[0m\u001b[0;34m;\u001b[0m\u001b[0;34m\u001b[0m\u001b[0;34m\u001b[0m\u001b[0m\n\u001b[0m\u001b[1;32m     53\u001b[0m \u001b[0mmultiplicacao\u001b[0m \u001b[0;34m=\u001b[0m \u001b[0mnumero1\u001b[0m \u001b[0;34m*\u001b[0m \u001b[0mnumero2\u001b[0m\u001b[0;34m;\u001b[0m\u001b[0;34m\u001b[0m\u001b[0;34m\u001b[0m\u001b[0m\n\u001b[1;32m     54\u001b[0m \u001b[0mprint\u001b[0m\u001b[0;34m(\u001b[0m\u001b[0;34m\"Multiplicação: \"\u001b[0m\u001b[0;34m,\u001b[0m \u001b[0mmultiplicacao\u001b[0m\u001b[0;34m)\u001b[0m\u001b[0;34m;\u001b[0m\u001b[0;34m\u001b[0m\u001b[0;34m\u001b[0m\u001b[0m\n",
            "\u001b[0;31mValueError\u001b[0m: invalid literal for int() with base 10: ''"
          ]
        }
      ],
      "source": [
        "#21 de junho de 2023 atividade\n",
        "# 1\n",
        "nome = \"Poline\";\n",
        "idade = \"38\";\n",
        "print()\n",
        "\n",
        "print(f\"Olá, meu nome é {nome} e eu tenho {idade} anos.\\n\") ;\n",
        "\n",
        "nome = (nome);\n",
        "linguagem_favorita = \"Python\";\n",
        "print();\n",
        "\n",
        "print(f\"Olá, eu sou {nome}. Estou aprendendo {linguagem_favorita}.\");\n",
        "print();\n",
        "\n",
        "#2\n",
        "frase = \"sempre estudando e demais esforça em frente! \";\n",
        "print(\"Tamanho: \", len(frase));\n",
        "print();\n",
        "\n",
        "#3\n",
        "nome = \"Poliane\";\n",
        "sobreNome = \"Fernandes de Godoy\";\n",
        "print(f\"Nome de completos: {nome} de {sobreNome}\\n\");\n",
        "\n",
        "#4\n",
        "print(\"4\");\n",
        "x = frase.upper();\n",
        "print(\"Maiúsulas :\", x);\n",
        "print();\n",
        "\n",
        "#5\n",
        "\n",
        "y = frase.split();\n",
        "print(\"Lista: \",y);\n",
        "print();\n",
        "\n",
        "#6\n",
        "z = frase.replace(\"jogos\", \"estudando\");\n",
        "print(\"Substituas as palavras: \", z);\n",
        "print();\n",
        "\n",
        "#7\n",
        "numero1 = 20;\n",
        "numero2 = 20;\n",
        "soma = numero1 + numero2;\n",
        "print(\"Soma: \", soma , \"idade.\");\n",
        "\n",
        "#8 Extra\n",
        "\n",
        "numero1 = int(input(\"Digite o primeiro no numero: \"));\n",
        "numero2 = int(input(\"Digite o segundo no numero: \"));\n",
        "multiplicacao = numero1 * numero2;\n",
        "print(\"Multiplicação: \", multiplicacao);"
      ]
    },
    {
      "cell_type": "markdown",
      "source": [],
      "metadata": {
        "id": "4fS0NVoz6SYy"
      }
    }
  ]
}